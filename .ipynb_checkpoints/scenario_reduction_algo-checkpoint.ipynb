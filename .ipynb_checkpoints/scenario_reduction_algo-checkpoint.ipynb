{
 "cells": [
  {
   "cell_type": "markdown",
   "metadata": {},
   "source": [
    "# Scenario reduction algorithm\n",
    "\n",
    "Method used is Simultaneous backward reduction from: <br/>\n",
    "\"Scenario reduction and scenario tree construction for power management problem\" [link](https://www.researchgate.net/publication/4078014_Scenario_reduction_and_scenario_tree_construction_for_power_management_problem)"
   ]
  },
  {
   "cell_type": "code",
   "execution_count": 1,
   "metadata": {},
   "outputs": [
    {
     "data": {
      "text/html": [
       "<div>\n",
       "<style scoped>\n",
       "    .dataframe tbody tr th:only-of-type {\n",
       "        vertical-align: middle;\n",
       "    }\n",
       "\n",
       "    .dataframe tbody tr th {\n",
       "        vertical-align: top;\n",
       "    }\n",
       "\n",
       "    .dataframe thead th {\n",
       "        text-align: right;\n",
       "    }\n",
       "</style>\n",
       "<table border=\"1\" class=\"dataframe\">\n",
       "  <thead>\n",
       "    <tr style=\"text-align: right;\">\n",
       "      <th></th>\n",
       "      <th>i_t</th>\n",
       "      <th>i_s</th>\n",
       "      <th>p_scenDemand</th>\n",
       "    </tr>\n",
       "  </thead>\n",
       "  <tbody>\n",
       "    <tr>\n",
       "      <th>0</th>\n",
       "      <td>2020</td>\n",
       "      <td>1</td>\n",
       "      <td>-106.858898</td>\n",
       "    </tr>\n",
       "    <tr>\n",
       "      <th>1</th>\n",
       "      <td>2020</td>\n",
       "      <td>2</td>\n",
       "      <td>-61.108668</td>\n",
       "    </tr>\n",
       "    <tr>\n",
       "      <th>2</th>\n",
       "      <td>2020</td>\n",
       "      <td>3</td>\n",
       "      <td>-113.257302</td>\n",
       "    </tr>\n",
       "    <tr>\n",
       "      <th>3</th>\n",
       "      <td>2020</td>\n",
       "      <td>4</td>\n",
       "      <td>-111.049724</td>\n",
       "    </tr>\n",
       "    <tr>\n",
       "      <th>4</th>\n",
       "      <td>2020</td>\n",
       "      <td>5</td>\n",
       "      <td>-201.098780</td>\n",
       "    </tr>\n",
       "  </tbody>\n",
       "</table>\n",
       "</div>"
      ],
      "text/plain": [
       "    i_t  i_s  p_scenDemand\n",
       "0  2020    1   -106.858898\n",
       "1  2020    2    -61.108668\n",
       "2  2020    3   -113.257302\n",
       "3  2020    4   -111.049724\n",
       "4  2020    5   -201.098780"
      ]
     },
     "execution_count": 1,
     "metadata": {},
     "output_type": "execute_result"
    }
   ],
   "source": [
    "import pandas as pd\n",
    "import numpy as np\n",
    "\n",
    "data = pd.read_csv('C:\\\\Users\\\\user1\\\\Desktop\\\\t_scenDemand.csv')\n",
    "data.head()"
   ]
  },
  {
   "cell_type": "markdown",
   "metadata": {},
   "source": [
    "### Calculate distances"
   ]
  },
  {
   "cell_type": "code",
   "execution_count": 2,
   "metadata": {},
   "outputs": [
    {
     "data": {
      "text/plain": [
       "array([[  1,   2],\n",
       "       [  1,   3],\n",
       "       [  1,   4],\n",
       "       ...,\n",
       "       [ 98,  99],\n",
       "       [ 98, 100],\n",
       "       [ 99, 100]])"
      ]
     },
     "execution_count": 2,
     "metadata": {},
     "output_type": "execute_result"
    }
   ],
   "source": [
    "combo_matrix = np.zeros(shape=[4950, 2])\n",
    "\n",
    "total_rows = 0\n",
    "for i in np.arange(0, 100):\n",
    "    scenario = i + 1\n",
    "    count_same_max = 100 - scenario - 1\n",
    "    first_row = total_rows\n",
    "    \n",
    "    count_same = 0\n",
    "    while count_same <= count_same_max:\n",
    "        combo_matrix[first_row + count_same, 0] = scenario\n",
    "        combo_matrix[first_row + count_same, 1] = scenario + count_same + 1\n",
    "        count_same += 1\n",
    "        \n",
    "    total_rows = total_rows + 100 - scenario\n",
    "\n",
    "combo_matrix = combo_matrix.astype('int')\n",
    "combo_matrix\n"
   ]
  },
  {
   "cell_type": "code",
   "execution_count": 3,
   "metadata": {},
   "outputs": [
    {
     "data": {
      "text/plain": [
       "2580.9559344232825"
      ]
     },
     "execution_count": 3,
     "metadata": {},
     "output_type": "execute_result"
    }
   ],
   "source": [
    "np.linalg.norm(data[data.i_s == 1].values - data[data.i_s == 2].values)"
   ]
  },
  {
   "cell_type": "code",
   "execution_count": 4,
   "metadata": {},
   "outputs": [
    {
     "data": {
      "text/plain": [
       "array([2580.95593442, 2794.96152513, 2032.16198869, 2617.86901447,\n",
       "       2310.38032594])"
      ]
     },
     "execution_count": 4,
     "metadata": {},
     "output_type": "execute_result"
    }
   ],
   "source": [
    "distance_array = np.zeros(shape=4950)\n",
    "\n",
    "for x in np.arange(0, 4950):\n",
    "    first_scenario = combo_matrix[x, 0]\n",
    "    second_scenario = combo_matrix[x, 1]\n",
    "    distance_array[x] = np.linalg.norm(data[data.i_s == first_scenario].values - data[data.i_s == second_scenario].values)\n",
    "    \n",
    "distance_array[:5]"
   ]
  },
  {
   "cell_type": "code",
   "execution_count": 5,
   "metadata": {},
   "outputs": [
    {
     "data": {
      "text/plain": [
       "array([ 4, 11])"
      ]
     },
     "execution_count": 5,
     "metadata": {},
     "output_type": "execute_result"
    }
   ],
   "source": [
    "combo_matrix[np.argmin(distance_array)]"
   ]
  },
  {
   "cell_type": "code",
   "execution_count": 6,
   "metadata": {},
   "outputs": [
    {
     "data": {
      "text/plain": [
       "1226.2412382628725"
      ]
     },
     "execution_count": 6,
     "metadata": {},
     "output_type": "execute_result"
    }
   ],
   "source": [
    "np.min(distance_array)\n"
   ]
  },
  {
   "cell_type": "markdown",
   "metadata": {},
   "source": [
    "### First l"
   ]
  },
  {
   "cell_type": "code",
   "execution_count": 7,
   "metadata": {},
   "outputs": [],
   "source": [
    "J = np.ndarray(shape=[0])\n",
    "J = np.append(J, combo_matrix[np.argmin(distance_array)][0])\n",
    "S = np.arange(1, 101)\n",
    "s = np.delete(S, int(combo_matrix[np.argmin(distance_array)][0]-1))\n",
    "\n",
    "S_pruned = S\n"
   ]
  },
  {
   "cell_type": "code",
   "execution_count": 8,
   "metadata": {},
   "outputs": [],
   "source": [
    "# initialise probabilities\n",
    "p = np.full([100], 0.01)\n",
    "p_pruned = p\n",
    "\n",
    "# define prob reduction limit\n",
    "e = 100\n",
    "\n",
    "def check_tolerance(J):\n",
    "    \"\"\"\n",
    "    Check D of all removed scenarios is smaller than tolerance e.\n",
    "    Args:\n",
    "        J (np array): list of deleted scenarios\n",
    "    \"\"\"\n",
    "    \n",
    "    p_j = p[np.argwhere(np.in1d(S_pruned, J))]\n",
    "\n",
    "    for j in np.nditer(J):\n",
    "        combo_index_with_j = np.logical_or(combo_matrix[:, 0] == j, combo_matrix[:, 1] == j)\n",
    "        min_distance_for_j = np.amin(distance_array[combo_index_with_j])\n",
    "\n",
    "    D = np.sum(np.multiply(p_j, min_distance_for_j))\n",
    "    return D <= e"
   ]
  },
  {
   "cell_type": "markdown",
   "metadata": {},
   "source": [
    "### Find next l"
   ]
  },
  {
   "cell_type": "code",
   "execution_count": 9,
   "metadata": {},
   "outputs": [],
   "source": [
    "def delete_scenario(J, s): \n",
    "    \"\"\"\n",
    "    Delete scenario, which updates J and s.\n",
    "    Needs np arrays combo_matrix and distance_array pre-defined.\n",
    "    \n",
    "    Args:\n",
    "        J (np array): list of deleted scenarios\n",
    "        s (np array): list of remaining scenarios\n",
    "    \n",
    "    Returns:\n",
    "        J (np array): list of deleted scenarios, with a newly deleted scenario added\n",
    "        s (np array): list of remaining scenarios, with a new scenario deleted\n",
    "        \n",
    "    \"\"\"\n",
    "    \n",
    "    z = np.zeros(shape=len(s))\n",
    "    for i_l in np.nditer(s):\n",
    "        l = int(i_l)\n",
    "        # k is deleted scenarios + current scenario\n",
    "        k = np.append(J, l)\n",
    "\n",
    "        # j is scenarios that are not k\n",
    "        j = np.delete(\n",
    "            S_pruned,\n",
    "            np.argwhere(np.in1d(S_pruned, k))\n",
    "        )\n",
    "\n",
    "        # get all c_jk\n",
    "        # find indices in combo matrix where the two scenarios are in j and k\n",
    "        combo_indices_for_jk = np.logical_or(\n",
    "            np.logical_and(np.in1d(combo_matrix[:, 0], k), np.in1d(combo_matrix[:, 1], j)),\n",
    "            np.logical_and(np.in1d(combo_matrix[:, 0], j), np.in1d(combo_matrix[:, 1], k))\n",
    "        )\n",
    "        # extract the combos\n",
    "        jk_combos = combo_matrix[combo_indices_for_jk]\n",
    "        # get the distances\n",
    "        c_jk = distance_array[combo_indices_for_jk]\n",
    "\n",
    "        # calculate c_jk_min, is the minimum c_jk for each k\n",
    "        c_jk_min = np.ndarray(shape=[len(k)])\n",
    "        for i_k in np.nditer(k):\n",
    "            # for each k, get the indices from jk_combos which has k\n",
    "            c_jk_index_for_k = np.logical_or(jk_combos[:, 0] == int(i_k), \n",
    "                                             jk_combos[:, 1] == int(i_k) )\n",
    "            # if i_k is the first in vector k, then also fill the first element of c_jk_min\n",
    "            k_index = np.argwhere(k == int(i_k))\n",
    "            # calculate c_jk_min for k\n",
    "            c_jk_min[k_index] = np.amin(c_jk[c_jk_index_for_k])\n",
    "\n",
    "        p_pruned_for_k = p_pruned[np.in1d(S_pruned, k)]\n",
    "        # z is sum of c_jk_min for each i_l\n",
    "        z[s == i_l] = np.dot(p_pruned_for_k, c_jk_min)\n",
    "\n",
    "    l_to_delete = s[np.argmin(z)]\n",
    "    J = np.append(J, l_to_delete)\n",
    "    s = np.delete(s, np.argwhere(s == l_to_delete))\n",
    "    return J, s"
   ]
  },
  {
   "cell_type": "code",
   "execution_count": 10,
   "metadata": {},
   "outputs": [],
   "source": [
    "i = 0\n",
    "while i < 100:\n",
    "    J_test, s_test = delete_scenario(J, s)\n",
    "    if check_tolerance(J_test):\n",
    "        J = J_test\n",
    "        s = s_test\n",
    "        i = i + 1\n",
    "    else:\n",
    "        break\n"
   ]
  },
  {
   "cell_type": "code",
   "execution_count": 11,
   "metadata": {},
   "outputs": [],
   "source": [
    "spot_year_current = 0\n",
    "connection_list = []\n",
    "\n",
    "def generate_p_pruned(p_pruned, combo_matrix, distance_array, J, spot_year_current):\n",
    "    for j in np.nditer(J):\n",
    "#         print('j = ' + str(j))\n",
    "        combo_index_with_j = np.logical_or(combo_matrix[:, 0] == j, combo_matrix[:, 1] == j)\n",
    "        min_distance_for_j = np.amin(distance_array[combo_index_with_j])\n",
    "#         print(min_distance_for_j)\n",
    "\n",
    "        combos_index_with_min_distance = np.logical_and(\n",
    "            np.logical_or(\n",
    "                combo_matrix[:, 0] == j, \n",
    "                combo_matrix[:, 1] == j,\n",
    "            ),\n",
    "            distance_array == min_distance_for_j\n",
    "        )\n",
    "        combo_with_min_distance = combo_matrix[combos_index_with_min_distance][0]\n",
    "#         print('combo_with_min_distance = ' + str(combo_with_min_distance))\n",
    "#         print('argwhere combo_with_min_distance == j: ' +  str(combo_with_min_distance == j))\n",
    "        remaining_scenario = int(np.delete(\n",
    "            combo_with_min_distance, \n",
    "            np.argwhere(combo_with_min_distance == j)\n",
    "        )[0])\n",
    "        p_pruned[S_pruned == remaining_scenario] = (\n",
    "            p_pruned[S_pruned == remaining_scenario] \n",
    "            + p_pruned[S_pruned == j]\n",
    "        )\n",
    "#         print('paired = ' + str(remaining_scenario))\n",
    "        \n",
    "        connection_list.append((spot_year_current, remaining_scenario, int(j)))\n",
    "\n",
    "    p_pruned = p_pruned[np.in1d(S_pruned, s)]\n",
    "    return p_pruned"
   ]
  },
  {
   "cell_type": "code",
   "execution_count": 12,
   "metadata": {},
   "outputs": [],
   "source": [
    "p_pruned = generate_p_pruned(p_pruned, combo_matrix, distance_array, J, spot_year_current)"
   ]
  },
  {
   "cell_type": "code",
   "execution_count": 13,
   "metadata": {},
   "outputs": [
    {
     "data": {
      "text/plain": [
       "94"
      ]
     },
     "execution_count": 13,
     "metadata": {},
     "output_type": "execute_result"
    }
   ],
   "source": [
    "len(p_pruned)"
   ]
  },
  {
   "cell_type": "code",
   "execution_count": 14,
   "metadata": {},
   "outputs": [
    {
     "name": "stdout",
     "output_type": "stream",
     "text": [
      "J len = 6\n"
     ]
    }
   ],
   "source": [
    "print('J len = ' + str(len(J)))\n",
    "J_total = np.ndarray(shape=[0])\n",
    "J_total = np.append(J_total, J)\n"
   ]
  },
  {
   "cell_type": "code",
   "execution_count": 15,
   "metadata": {},
   "outputs": [
    {
     "data": {
      "text/plain": [
       "4950.0"
      ]
     },
     "execution_count": 15,
     "metadata": {},
     "output_type": "execute_result"
    }
   ],
   "source": [
    "from scipy.special import comb\n",
    "\n",
    "comb(100, 2)"
   ]
  },
  {
   "cell_type": "code",
   "execution_count": 16,
   "metadata": {},
   "outputs": [],
   "source": [
    "spot_years = [2025, 2030, 2035, 2040, 2045]\n"
   ]
  },
  {
   "cell_type": "code",
   "execution_count": 17,
   "metadata": {},
   "outputs": [],
   "source": [
    "spot_year_current = 2045\n",
    "if spot_year_current == 0:\n",
    "    end_year = np.amax(data.i_t.values)\n",
    "else:\n",
    "    end_year = spot_year_current - 1\n"
   ]
  },
  {
   "cell_type": "code",
   "execution_count": 18,
   "metadata": {},
   "outputs": [
    {
     "data": {
      "text/plain": [
       "array([ 1,  2,  3,  5,  6,  7,  8,  9, 10, 11, 12, 13, 14, 15, 16, 17, 18,\n",
       "       19, 20, 21, 22, 23, 24, 25, 26, 27, 28, 29, 30, 31, 32, 33, 35, 36,\n",
       "       37, 38, 39, 40, 41, 42, 43, 44, 46, 47, 48, 49, 50, 51, 52, 54, 55,\n",
       "       56, 57, 58, 59, 60, 61, 62, 63, 64, 66, 67, 68, 69, 70, 71, 72, 73,\n",
       "       74, 75, 76, 77, 78, 79, 80, 81, 82, 83, 84, 85, 86, 87, 88, 89, 90,\n",
       "       91, 92, 93, 94, 95, 96, 97, 98, 99])"
      ]
     },
     "execution_count": 18,
     "metadata": {},
     "output_type": "execute_result"
    }
   ],
   "source": [
    "S_pruned = s\n",
    "S_pruned\n"
   ]
  },
  {
   "cell_type": "code",
   "execution_count": 19,
   "metadata": {},
   "outputs": [
    {
     "data": {
      "text/plain": [
       "94"
      ]
     },
     "execution_count": 19,
     "metadata": {},
     "output_type": "execute_result"
    }
   ],
   "source": [
    "def generate_combo_matrix(input_combo_matrix, S_pruned):   \n",
    "    adjusted_combo_matrix = input_combo_matrix[np.logical_and(\n",
    "        np.in1d(input_combo_matrix[:, 0], S_pruned),\n",
    "        np.in1d(input_combo_matrix[:, 1], S_pruned)\n",
    "    )]\n",
    "    return adjusted_combo_matrix\n",
    "combo_matrix = generate_combo_matrix(combo_matrix, S_pruned)\n",
    "len(S_pruned)"
   ]
  },
  {
   "cell_type": "code",
   "execution_count": 20,
   "metadata": {},
   "outputs": [
    {
     "data": {
      "text/plain": [
       "4371"
      ]
     },
     "execution_count": 20,
     "metadata": {},
     "output_type": "execute_result"
    }
   ],
   "source": [
    "def generate_distance_matrix(input_combo_matrix, \n",
    "                             input_S_pruned,\n",
    "                             input_data, \n",
    "                             input_end_year):\n",
    "    \n",
    "    no_of_combos = int(comb(len(input_S_pruned), 2))\n",
    "\n",
    "    new_distance_array = np.zeros(shape=no_of_combos)\n",
    "\n",
    "    for x in np.arange(0, no_of_combos):\n",
    "        first_scenario = input_combo_matrix[x, 0]\n",
    "        second_scenario = input_combo_matrix[x, 1]\n",
    "        new_distance_array[x] = np.linalg.norm(\n",
    "            input_data[(input_data.i_s == first_scenario) & (input_data.i_t <= input_end_year)].values \n",
    "            - input_data[(input_data.i_s == second_scenario) & (input_data.i_t <= input_end_year)].values\n",
    "        )\n",
    "        \n",
    "    return new_distance_array\n",
    "distance_array = generate_distance_matrix(combo_matrix, S_pruned, data, end_year)   \n",
    "len(distance_array)"
   ]
  },
  {
   "cell_type": "code",
   "execution_count": 21,
   "metadata": {},
   "outputs": [
    {
     "name": "stdout",
     "output_type": "stream",
     "text": [
      "[25.]\n",
      "[ 1  2  3  5  6  7  8  9 10 11 12 13 14 15 16 17 18 19 20 21 22 23 24 26\n",
      " 27 28 29 30 31 32 33 35 36 37 38 39 40 41 42 43 44 46 47 48 49 50 51 52\n",
      " 54 55 56 57 58 59 60 61 62 63 64 66 67 68 69 70 71 72 73 74 75 76 77 78\n",
      " 79 80 81 82 83 84 85 86 87 88 89 90 91 92 93 94 95 96 97 98 99]\n"
     ]
    }
   ],
   "source": [
    "J = np.ndarray(shape=[0])\n",
    "J = np.append(J, combo_matrix[np.argmin(distance_array)][0])\n",
    "s = np.delete(S_pruned, np.argwhere(S_pruned == J[0]))\n",
    "print(J)\n",
    "print(s)"
   ]
  },
  {
   "cell_type": "code",
   "execution_count": 22,
   "metadata": {},
   "outputs": [
    {
     "data": {
      "text/plain": [
       "array([25., 78., 18., 63., 77., 20., 40.,  1., 76.])"
      ]
     },
     "execution_count": 22,
     "metadata": {},
     "output_type": "execute_result"
    }
   ],
   "source": [
    "def delete_mult_scenarios(J, s):\n",
    "    i = 0\n",
    "    while i < 100:\n",
    "        J_test, s_test = delete_scenario(J, s)\n",
    "        if check_tolerance(J_test):\n",
    "            J = J_test\n",
    "            s = s_test\n",
    "            i = i + 1\n",
    "        else:\n",
    "            break\n",
    "    return J, s\n",
    "\n",
    "J, s = delete_mult_scenarios(J, s)\n",
    "J"
   ]
  },
  {
   "cell_type": "code",
   "execution_count": 23,
   "metadata": {},
   "outputs": [
    {
     "data": {
      "text/plain": [
       "85"
      ]
     },
     "execution_count": 23,
     "metadata": {},
     "output_type": "execute_result"
    }
   ],
   "source": [
    "len(s)"
   ]
  },
  {
   "cell_type": "code",
   "execution_count": 24,
   "metadata": {},
   "outputs": [
    {
     "data": {
      "text/plain": [
       "array([0.01, 0.01, 0.01, 0.01, 0.01, 0.01, 0.01, 0.01, 0.03, 0.01, 0.01,\n",
       "       0.01, 0.01, 0.01, 0.01, 0.01, 0.01, 0.01, 0.02, 0.01, 0.01, 0.01,\n",
       "       0.01, 0.01, 0.01, 0.01, 0.01, 0.01, 0.01, 0.01, 0.01, 0.01, 0.01,\n",
       "       0.01, 0.01, 0.01, 0.01, 0.01, 0.02, 0.01, 0.01, 0.01, 0.01, 0.01,\n",
       "       0.01, 0.01, 0.01, 0.01, 0.01, 0.01, 0.01, 0.01, 0.01, 0.02, 0.01,\n",
       "       0.01, 0.02, 0.01, 0.05, 0.01, 0.01, 0.01, 0.01, 0.01, 0.01, 0.03,\n",
       "       0.01, 0.01, 0.01, 0.01, 0.01, 0.01, 0.01, 0.01, 0.01, 0.02, 0.01,\n",
       "       0.01, 0.01, 0.01, 0.01, 0.01, 0.01, 0.01, 0.01])"
      ]
     },
     "execution_count": 24,
     "metadata": {},
     "output_type": "execute_result"
    }
   ],
   "source": [
    "p_pruned = generate_p_pruned(p_pruned, combo_matrix, distance_array, J, spot_year_current)\n",
    "p_pruned"
   ]
  },
  {
   "cell_type": "code",
   "execution_count": 25,
   "metadata": {},
   "outputs": [
    {
     "data": {
      "text/plain": [
       "[(0, 11, 4),\n",
       " (0, 70, 53),\n",
       " (0, 68, 45),\n",
       " (0, 11, 65),\n",
       " (0, 80, 34),\n",
       " (0, 70, 100),\n",
       " (2045, 70, 25),\n",
       " (2045, 90, 78),\n",
       " (2045, 76, 18),\n",
       " (2045, 64, 63),\n",
       " (2045, 70, 77),\n",
       " (2045, 23, 20),\n",
       " (2045, 80, 40),\n",
       " (2045, 47, 1),\n",
       " (2045, 18, 76)]"
      ]
     },
     "execution_count": 25,
     "metadata": {},
     "output_type": "execute_result"
    }
   ],
   "source": [
    "connection_list"
   ]
  },
  {
   "cell_type": "code",
   "execution_count": 26,
   "metadata": {},
   "outputs": [
    {
     "data": {
      "text/plain": [
       "85"
      ]
     },
     "execution_count": 26,
     "metadata": {},
     "output_type": "execute_result"
    }
   ],
   "source": [
    "len(p_pruned)"
   ]
  },
  {
   "cell_type": "code",
   "execution_count": 27,
   "metadata": {},
   "outputs": [
    {
     "name": "stdout",
     "output_type": "stream",
     "text": [
      "J len = 9\n"
     ]
    }
   ],
   "source": [
    "print('J len = ' + str(len(J)))\n",
    "J_total = np.append(J_total, J)"
   ]
  },
  {
   "cell_type": "code",
   "execution_count": 28,
   "metadata": {},
   "outputs": [
    {
     "name": "stdout",
     "output_type": "stream",
     "text": [
      "J len = 10\n",
      "J len = 14\n",
      "J len = 21\n",
      "J len = 27\n"
     ]
    }
   ],
   "source": [
    "S_pruned = s\n",
    "\n",
    "\n",
    "spot_years[::-1]\n",
    "remaining_spot_years = spot_years[:-1]\n",
    "\n",
    "# looping over remaining spot years (we've done 2045) in reverse\n",
    "for t in remaining_spot_years[::-1]:\n",
    "    # set end year \n",
    "    spot_year_current = t\n",
    "    if spot_year_current == 0:\n",
    "        end_year = np.amax(data.i_t.values)\n",
    "    else:\n",
    "        end_year = spot_year_current - 1\n",
    "    \n",
    "    # generate combo with remaining scenarios\n",
    "    combo_matrix = generate_combo_matrix(combo_matrix, S_pruned)\n",
    "    \n",
    "    # generate distances for remaining scenarios \n",
    "    distance_array = generate_distance_matrix(combo_matrix, S_pruned, data, end_year) \n",
    "    \n",
    "    # delete one scenario and initialize J and s\n",
    "    J = np.ndarray(shape=[0])\n",
    "    J = np.append(J, combo_matrix[np.argmin(distance_array)][0])\n",
    "    s = np.delete(S_pruned, np.argwhere(S_pruned == J[0]))\n",
    "    \n",
    "    # delete other scenarios\n",
    "    J, s = delete_mult_scenarios(J, s)\n",
    "    \n",
    "    # generate p_pruned and update connection_list\n",
    "    p_pruned = generate_p_pruned(p_pruned, combo_matrix, distance_array, J, spot_year_current)\n",
    "    print('J len = ' + str(len(J)))\n",
    "    J_total = np.append(J_total, J)\n",
    "    \n",
    "    # update S_pruned\n",
    "    S_pruned = s\n",
    "    \n"
   ]
  },
  {
   "cell_type": "code",
   "execution_count": 29,
   "metadata": {},
   "outputs": [
    {
     "data": {
      "text/plain": [
       "[(0, 11, 4),\n",
       " (0, 70, 53),\n",
       " (0, 68, 45),\n",
       " (0, 11, 65),\n",
       " (0, 80, 34),\n",
       " (0, 70, 100),\n",
       " (2045, 70, 25),\n",
       " (2045, 90, 78),\n",
       " (2045, 76, 18),\n",
       " (2045, 64, 63),\n",
       " (2045, 70, 77),\n",
       " (2045, 23, 20),\n",
       " (2045, 80, 40),\n",
       " (2045, 47, 1),\n",
       " (2045, 18, 76),\n",
       " (2040, 92, 70),\n",
       " (2040, 64, 81),\n",
       " (2040, 11, 75),\n",
       " (2040, 37, 89),\n",
       " (2040, 69, 87),\n",
       " (2040, 70, 83),\n",
       " (2040, 81, 79),\n",
       " (2040, 69, 93),\n",
       " (2040, 64, 71),\n",
       " (2040, 17, 91),\n",
       " (2035, 69, 55),\n",
       " (2035, 69, 96),\n",
       " (2035, 11, 16),\n",
       " (2035, 58, 10),\n",
       " (2035, 95, 41),\n",
       " (2035, 69, 67),\n",
       " (2035, 94, 56),\n",
       " (2035, 11, 28),\n",
       " (2035, 95, 86),\n",
       " (2035, 62, 46),\n",
       " (2035, 92, 48),\n",
       " (2035, 94, 74),\n",
       " (2035, 58, 19),\n",
       " (2035, 23, 31),\n",
       " (2030, 47, 22),\n",
       " (2030, 68, 66),\n",
       " (2030, 29, 5),\n",
       " (2030, 80, 59),\n",
       " (2030, 85, 84),\n",
       " (2030, 95, 44),\n",
       " (2030, 14, 7),\n",
       " (2030, 38, 27),\n",
       " (2030, 68, 26),\n",
       " (2030, 43, 21),\n",
       " (2030, 69, 60),\n",
       " (2030, 37, 73),\n",
       " (2030, 11, 72),\n",
       " (2030, 58, 98),\n",
       " (2030, 22, 32),\n",
       " (2030, 47, 49),\n",
       " (2030, 5, 9),\n",
       " (2030, 21, 43),\n",
       " (2030, 84, 42),\n",
       " (2030, 69, 97),\n",
       " (2030, 21, 12),\n",
       " (2025, 85, 64),\n",
       " (2025, 61, 39),\n",
       " (2025, 64, 99),\n",
       " (2025, 52, 88),\n",
       " (2025, 62, 82),\n",
       " (2025, 38, 51),\n",
       " (2025, 11, 3),\n",
       " (2025, 23, 8),\n",
       " (2025, 54, 36),\n",
       " (2025, 3, 2),\n",
       " (2025, 29, 57),\n",
       " (2025, 64, 35),\n",
       " (2025, 38, 54),\n",
       " (2025, 50, 33),\n",
       " (2025, 39, 61),\n",
       " (2025, 36, 13),\n",
       " (2025, 64, 85),\n",
       " (2025, 58, 94),\n",
       " (2025, 57, 90),\n",
       " (2025, 2, 15),\n",
       " (2025, 80, 24),\n",
       " (2025, 69, 29),\n",
       " (2025, 23, 17),\n",
       " (2025, 51, 6),\n",
       " (2025, 37, 95),\n",
       " (2025, 99, 50),\n",
       " (2025, 61, 14)]"
      ]
     },
     "execution_count": 29,
     "metadata": {},
     "output_type": "execute_result"
    }
   ],
   "source": [
    "connection_list"
   ]
  },
  {
   "cell_type": "code",
   "execution_count": null,
   "metadata": {},
   "outputs": [],
   "source": []
  },
  {
   "cell_type": "code",
   "execution_count": 30,
   "metadata": {},
   "outputs": [
    {
     "data": {
      "text/plain": [
       "0.7000000000000002"
      ]
     },
     "execution_count": 30,
     "metadata": {},
     "output_type": "execute_result"
    }
   ],
   "source": [
    "connection_list_np = np.array(connection_list)\n",
    "# len(connection_list_np[connection_list_np[:, 0] == 2025])\n",
    "sum(p_pruned)"
   ]
  },
  {
   "cell_type": "code",
   "execution_count": 31,
   "metadata": {},
   "outputs": [
    {
     "data": {
      "text/plain": [
       "39"
      ]
     },
     "execution_count": 31,
     "metadata": {},
     "output_type": "execute_result"
    }
   ],
   "source": [
    "len(np.unique(connection_list_np[:, 1:2].flatten()))\n"
   ]
  },
  {
   "cell_type": "code",
   "execution_count": 32,
   "metadata": {},
   "outputs": [
    {
     "data": {
      "text/plain": [
       "100"
      ]
     },
     "execution_count": 32,
     "metadata": {},
     "output_type": "execute_result"
    }
   ],
   "source": [
    "len(np.unique(np.append(J_total, S_pruned)))"
   ]
  },
  {
   "cell_type": "code",
   "execution_count": 39,
   "metadata": {},
   "outputs": [
    {
     "name": "stdout",
     "output_type": "stream",
     "text": [
      "[11.  3.]\n",
      "restart\n",
      "COUNT=1\n",
      "i=[85 64]\n",
      "COUNT=2\n",
      "i=[61 39]\n",
      "COUNT=3\n",
      "i=[64 99]\n",
      "COUNT=4\n",
      "i=[52 88]\n",
      "COUNT=5\n",
      "i=[62 82]\n",
      "COUNT=6\n",
      "i=[38 51]\n",
      "COUNT=7\n",
      "i=[11  3]\n",
      "j=11\n",
      "j=3\n",
      "COUNT=8\n",
      "i=[23  8]\n",
      "COUNT=9\n",
      "i=[54 36]\n",
      "COUNT=10\n",
      "i=[3 2]\n",
      "j=3\n",
      "j=2\n",
      "restart\n",
      "COUNT=1\n",
      "i=[85 64]\n",
      "COUNT=2\n",
      "i=[61 39]\n",
      "COUNT=3\n",
      "i=[64 99]\n",
      "COUNT=4\n",
      "i=[52 88]\n",
      "COUNT=5\n",
      "i=[62 82]\n",
      "COUNT=6\n",
      "i=[38 51]\n",
      "COUNT=7\n",
      "i=[11  3]\n",
      "j=11\n",
      "j=3\n",
      "COUNT=8\n",
      "i=[23  8]\n",
      "COUNT=9\n",
      "i=[54 36]\n",
      "COUNT=10\n",
      "i=[3 2]\n",
      "j=3\n",
      "j=2\n",
      "COUNT=11\n",
      "i=[29 57]\n",
      "COUNT=12\n",
      "i=[64 35]\n",
      "COUNT=13\n",
      "i=[38 54]\n",
      "COUNT=14\n",
      "i=[50 33]\n",
      "COUNT=15\n",
      "i=[39 61]\n",
      "COUNT=16\n",
      "i=[36 13]\n",
      "COUNT=17\n",
      "i=[64 85]\n",
      "COUNT=18\n",
      "i=[58 94]\n",
      "COUNT=19\n",
      "i=[57 90]\n",
      "COUNT=20\n",
      "i=[ 2 15]\n",
      "j=2\n",
      "j=15\n",
      "restart\n",
      "COUNT=1\n",
      "i=[85 64]\n",
      "COUNT=2\n",
      "i=[61 39]\n",
      "COUNT=3\n",
      "i=[64 99]\n",
      "COUNT=4\n",
      "i=[52 88]\n",
      "COUNT=5\n",
      "i=[62 82]\n",
      "COUNT=6\n",
      "i=[38 51]\n",
      "COUNT=7\n",
      "i=[11  3]\n",
      "j=11\n",
      "j=3\n",
      "COUNT=8\n",
      "i=[23  8]\n",
      "COUNT=9\n",
      "i=[54 36]\n",
      "COUNT=10\n",
      "i=[3 2]\n",
      "j=3\n",
      "j=2\n",
      "COUNT=11\n",
      "i=[29 57]\n",
      "COUNT=12\n",
      "i=[64 35]\n",
      "COUNT=13\n",
      "i=[38 54]\n",
      "COUNT=14\n",
      "i=[50 33]\n",
      "COUNT=15\n",
      "i=[39 61]\n",
      "COUNT=16\n",
      "i=[36 13]\n",
      "COUNT=17\n",
      "i=[64 85]\n",
      "COUNT=18\n",
      "i=[58 94]\n",
      "COUNT=19\n",
      "i=[57 90]\n",
      "COUNT=20\n",
      "i=[ 2 15]\n",
      "j=2\n",
      "j=15\n",
      "COUNT=21\n",
      "i=[80 24]\n",
      "COUNT=22\n",
      "i=[69 29]\n",
      "COUNT=23\n",
      "i=[23 17]\n",
      "COUNT=24\n",
      "i=[51  6]\n",
      "COUNT=25\n",
      "i=[37 95]\n",
      "COUNT=26\n",
      "i=[99 50]\n",
      "COUNT=27\n",
      "i=[61 14]\n"
     ]
    },
    {
     "data": {
      "text/plain": [
       "array([11.,  3.,  2., 15.])"
      ]
     },
     "execution_count": 39,
     "metadata": {},
     "output_type": "execute_result"
    }
   ],
   "source": [
    "pairings_in_2025 = connection_list_np[connection_list_np[:, 0] == 2025][:, 1:3]\n",
    "anchor = S_pruned[0]\n",
    "\n",
    "anchor_list = np.ndarray(shape=[0])\n",
    "for i in pairings_in_2025:\n",
    "    if any(np.in1d(i, anchor)):\n",
    "        anchor_list = np.append(anchor_list, i)\n",
    "        break\n",
    "\n",
    "print(anchor_list)\n",
    "\n",
    "\n",
    "\n",
    "count = 0\n",
    "while count < len(pairings_in_2025):  \n",
    "    \n",
    "    count = 0\n",
    "    break_status = False\n",
    "    \n",
    "    print('restart')\n",
    "    for i in pairings_in_2025:\n",
    "        \n",
    "        count = count + 1\n",
    "        print('COUNT=' + str(count))\n",
    "        \n",
    "        print('i=' + str(i))\n",
    "        if any(np.in1d(i, anchor_list)):\n",
    "            for j in i:\n",
    "                print('j=' + str(j))\n",
    "                if not any(np.in1d(anchor_list, j)):\n",
    "                    \n",
    "                    anchor_list = np.append(anchor_list, j)\n",
    "                    break_status = True  \n",
    "        \n",
    "        if break_status == True:\n",
    "            break\n",
    "    \n",
    "anchor_list"
   ]
  },
  {
   "cell_type": "code",
   "execution_count": 41,
   "metadata": {},
   "outputs": [
    {
     "data": {
      "text/plain": [
       "[array([11.,  3.,  2., 15., 11.,  3.])]"
      ]
     },
     "execution_count": 41,
     "metadata": {},
     "output_type": "execute_result"
    }
   ],
   "source": [
    "reduced_scenarios_list = []\n",
    "for y in range(2025, 2026):\n",
    "    \n",
    "    \n",
    "    # get all rows in connections list of chosen year\n",
    "    pairings_in_spot_year = connection_list_np[connection_list_np[:, 0] == y][:, 1:3]\n",
    "    \n",
    "    # an arbitrary first scenario\n",
    "    first_scenario = pairings_in_spot_year[0][0]\n",
    "    \n",
    "    # add both scenarios to initialise our reduced list\n",
    "    reduced_scenarios = np.ndarray(shape=[0])\n",
    "    for i in pairings_in_spot_year:\n",
    "        if any(np.in1d(i, anchor)):\n",
    "            reduced_scenarios = np.append(reduced_scenarios, i)\n",
    "            break\n",
    "            \n",
    "    # go through the pairing list. \n",
    "    # For each row, if any scenario is not in scenario list, \n",
    "    # add and start from beginning of pairing list.\n",
    "    # Count is used to track if we reach the end of pairing list, when we have gone through all scenarios.\n",
    "\n",
    "    while count < len(pairings_in_spot_year):\n",
    "        count = 0\n",
    "        break_status = False\n",
    "        \n",
    "        for i in pairings_in_spot_year:\n",
    "            count = count + 1\n",
    "            \n",
    "            # If any scenario in i is matched by current scecnario list, \n",
    "            # add scenario of any unrecognised scenario and break.\n",
    "            if any(np.in1d(i, anchor_list)):\n",
    "                for j in i:\n",
    "                    if not any(np.in1d(anchor_list, j)):\n",
    "                        reduced_scenarios = np.append(anchor_list, j)\n",
    "                        break_status = True  \n",
    "\n",
    "            if break_status == True:\n",
    "                break\n",
    "            \n",
    "    reduced_scenarios_list.append(reduced_scenarios)\n",
    "    \n",
    "reduced_scenarios_list\n",
    "    "
   ]
  },
  {
   "cell_type": "code",
   "execution_count": 37,
   "metadata": {},
   "outputs": [
    {
     "data": {
      "text/plain": [
       "[2025, 2030, 2035, 2040, 2045]"
      ]
     },
     "execution_count": 37,
     "metadata": {},
     "output_type": "execute_result"
    }
   ],
   "source": [
    "spot_years"
   ]
  },
  {
   "cell_type": "markdown",
   "metadata": {},
   "source": [
    "### Make a class"
   ]
  },
  {
   "cell_type": "code",
   "execution_count": null,
   "metadata": {},
   "outputs": [],
   "source": [
    "class ScenarioReductionTool(data_loc):\n",
    "    \"\"\"\n",
    "    Attributes:\n",
    "        data\n",
    "        all_years\n",
    "        S\n",
    "        S_pruned\n",
    "        connection_list\n",
    "        spot_years\n",
    "        combo_matrix\n",
    "        \n",
    "        loop_J\n",
    "        loop_s\n",
    "        loop_combo_matrix\n",
    "        loop_distance_array\n",
    "        loop_end_year\n",
    "        \n",
    "    \"\"\"\n",
    "    \n",
    "    def __init__(self, data_loc):\n",
    "        \n",
    "        "
   ]
  }
 ],
 "metadata": {
  "kernelspec": {
   "display_name": "Python 3",
   "language": "python",
   "name": "python3"
  },
  "language_info": {
   "codemirror_mode": {
    "name": "ipython",
    "version": 3
   },
   "file_extension": ".py",
   "mimetype": "text/x-python",
   "name": "python",
   "nbconvert_exporter": "python",
   "pygments_lexer": "ipython3",
   "version": "3.6.5"
  }
 },
 "nbformat": 4,
 "nbformat_minor": 2
}
